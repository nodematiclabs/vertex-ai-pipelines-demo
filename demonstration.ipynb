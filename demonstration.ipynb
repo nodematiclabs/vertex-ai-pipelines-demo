{
 "cells": [
  {
   "cell_type": "markdown",
   "id": "9fdd7697-0df5-40d8-b54e-4fb35f3e96ce",
   "metadata": {},
   "source": [
    "# Kubeflow Pipelines Getting Started"
   ]
  },
  {
   "cell_type": "code",
   "execution_count": null,
   "id": "b3799e62-b431-41fa-8da2-7b3939b46583",
   "metadata": {
    "tags": []
   },
   "outputs": [],
   "source": [
    "!pip install --quiet google-cloud-aiplatform kfp google-cloud-pipeline-components"
   ]
  },
  {
   "cell_type": "code",
   "execution_count": null,
   "id": "ed39069e-1c41-4709-831c-571fd450a2c5",
   "metadata": {
    "tags": []
   },
   "outputs": [],
   "source": [
    "from typing import Dict\n",
    "\n",
    "import kfp\n",
    "from kfp import dsl, compiler\n",
    "from kfp.dsl import Artifact, Dataset, Input, InputPath, Model, Output, OutputPath, ClassificationMetrics, Metrics, component\n",
    "\n",
    "from google.cloud import aiplatform  # For PipelineJob (Vertex AI Pipelines) submission"
   ]
  },
  {
   "cell_type": "markdown",
   "id": "e26dfc3d-268f-447f-8ac7-2288d9a84ea7",
   "metadata": {},
   "source": [
    "## Bucket and Constants"
   ]
  },
  {
   "cell_type": "code",
   "execution_count": null,
   "id": "eff0e021-e5ec-48e4-b4c6-04fddbf1c347",
   "metadata": {
    "tags": []
   },
   "outputs": [],
   "source": [
    "!gsutil mb gs://YOUR_BUCKET"
   ]
  },
  {
   "cell_type": "code",
   "execution_count": null,
   "id": "3bbf2d43-c147-4e9d-bc60-3a7c93b82fdb",
   "metadata": {
    "tags": []
   },
   "outputs": [],
   "source": [
    "REGION=\"us-central1\"\n",
    "PIPELINE_ROOT=\"gs://YOUR_BUCKET\""
   ]
  },
  {
   "cell_type": "code",
   "execution_count": null,
   "id": "afb216dd-d5da-4124-99e9-4f218fac9faf",
   "metadata": {
    "tags": []
   },
   "outputs": [],
   "source": [
    "@component(\n",
    "    base_image=\"python:3.11\",\n",
    "    output_component_file=\"first-component.yaml\",\n",
    ")\n",
    "def product_name(text: str) -> str:\n",
    "    return text"
   ]
  },
  {
   "cell_type": "code",
   "execution_count": null,
   "id": "cb81c6b5-c591-4b32-8392-524771d9a28c",
   "metadata": {
    "tags": []
   },
   "outputs": [],
   "source": [
    "@component(\n",
    "    base_image=\"python:3.11\",\n",
    "    output_component_file=\"second-component.yaml\",\n",
    "    packages_to_install=[\"emoji\"]\n",
    ")\n",
    "def emoji(text: str) -> Dict[str, str]:\n",
    "    import emoji\n",
    "    \n",
    "    emoji_text = text\n",
    "    emoji = emoji.emojize(':' + emoji_text + ':', language='alias')\n",
    "    print(\"output one: {}; output two: {}\".format(emoji_text, emoji))\n",
    "    \n",
    "    return {\n",
    "        \"emoji_text\": emoji_text,\n",
    "        \"emoji\": emoji,\n",
    "    }"
   ]
  },
  {
   "cell_type": "code",
   "execution_count": null,
   "id": "93a6b1fd-de77-4683-91a2-658c28d79f63",
   "metadata": {
    "tags": []
   },
   "outputs": [],
   "source": [
    "@component(\n",
    "    base_image=\"python:3.11\",\n",
    "    output_component_file=\"third-component.yaml\"\n",
    ")\n",
    "def build_sentence(\n",
    "    product: str,\n",
    "    emoji: Dict[str, str]\n",
    ") -> str:\n",
    "    print(\"We completed the pipeline!\")\n",
    "    end_str = product + \" is \"\n",
    "    if len(emoji[\"emoji\"]) > 0:\n",
    "        end_str += emoji[\"emoji\"]\n",
    "    else:\n",
    "        end_str += emoji[\"emoji_text\"]\n",
    "    return end_str"
   ]
  },
  {
   "cell_type": "code",
   "execution_count": null,
   "id": "f17c001b-6d29-4eeb-9507-7a9185eb3126",
   "metadata": {
    "tags": []
   },
   "outputs": [],
   "source": [
    "@dsl.pipeline(\n",
    "    name=\"hello-world\",\n",
    "    description=\"An intro pipeline\",\n",
    "    pipeline_root=PIPELINE_ROOT,\n",
    ")\n",
    "def intro_pipeline(\n",
    "    text: str = \"Vertex AI Pipelines\",\n",
    "    emoji_str: str = \"sparkles\"\n",
    "):\n",
    "    product_task = product_name(text=text)\n",
    "    emoji_task = emoji(text=emoji_str)\n",
    "    consumer_task = build_sentence(\n",
    "        product=product_task.output,\n",
    "        emoji=emoji_task.output,\n",
    "    )"
   ]
  },
  {
   "cell_type": "code",
   "execution_count": null,
   "id": "79445588-0a7c-45df-9dad-3221cf41fbc9",
   "metadata": {
    "tags": []
   },
   "outputs": [],
   "source": [
    "compiler.Compiler().compile(\n",
    "    pipeline_func=intro_pipeline,\n",
    "    package_path=\"intro_pipeline_job.json\"\n",
    ")"
   ]
  },
  {
   "cell_type": "code",
   "execution_count": null,
   "id": "c27bed2e-bbc0-41f5-b0ea-2ed6349162ab",
   "metadata": {
    "tags": []
   },
   "outputs": [],
   "source": [
    "aiplatform.init()"
   ]
  },
  {
   "cell_type": "code",
   "execution_count": null,
   "id": "74c7308f-99d1-485e-b744-7c313c4ca472",
   "metadata": {
    "tags": []
   },
   "outputs": [],
   "source": [
    "job = aiplatform.PipelineJob(\n",
    "    display_name=\"Demonstration\",\n",
    "    template_path=\"intro_pipeline_job.json\",\n",
    "    pipeline_root=PIPELINE_ROOT\n",
    ")"
   ]
  },
  {
   "cell_type": "code",
   "execution_count": null,
   "id": "dd848c4d-809f-4677-8c8d-66e05dbe7063",
   "metadata": {
    "tags": []
   },
   "outputs": [],
   "source": [
    "job.submit()"
   ]
  }
 ],
 "metadata": {
  "environment": {
   "kernel": "conda-base-py",
   "name": "workbench-notebooks.m126",
   "type": "gcloud",
   "uri": "us-docker.pkg.dev/deeplearning-platform-release/gcr.io/workbench-notebooks:m126"
  },
  "kernelspec": {
   "display_name": "Python 3 (ipykernel) (Local)",
   "language": "python",
   "name": "conda-base-py"
  },
  "language_info": {
   "codemirror_mode": {
    "name": "ipython",
    "version": 3
   },
   "file_extension": ".py",
   "mimetype": "text/x-python",
   "name": "python",
   "nbconvert_exporter": "python",
   "pygments_lexer": "ipython3",
   "version": "3.10.15"
  }
 },
 "nbformat": 4,
 "nbformat_minor": 5
}
